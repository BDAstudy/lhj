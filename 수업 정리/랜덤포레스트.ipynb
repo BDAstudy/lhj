{
 "cells": [
  {
   "cell_type": "markdown",
   "metadata": {},
   "source": [
    "#### 랜덤포레스트 (Random Forest)\n",
    "- 분류, 회귀 분석 등에 사용되는 앙상블 학습 방법의 일종으로, 훈련 과정에서 구성한 다수의 결정 트리로부터 분류 또는 평균 예측치(회귀)를 출럭\n",
    "- 전체 데이터의 일부를 샘플링한 서브 데이터를 이용해서 학습 시킨 여러 개의 결정 트리의 예측값들간에 보팅을 통해서 최종 출력값을 만들어내는 방법"
   ]
  },
  {
   "cell_type": "markdown",
   "metadata": {},
   "source": [
    "![Alt text](image-13.png)"
   ]
  },
  {
   "cell_type": "markdown",
   "metadata": {},
   "source": [
    "#### 앙상블 러닝(Ensenble Learning)\n",
    "- 앙상블 러닝은 여러 개의 분류기의 예측 결과값 간의 투표를 통해서 최종 결과값을 만들어 내는 기법\n",
    "\n",
    "\n",
    "![Alt text](image-14.png)"
   ]
  },
  {
   "cell_type": "markdown",
   "metadata": {},
   "source": [
    "#### 랜덤 포레스트의 장단점\n",
    "- 장점\n",
    "1. 많은 하이퍼 파라미터 튜닝을 거치지 않아도 일반적으로 안정적인 좋은 성능 발휘\n",
    "2. 병렬 처리를 이용해서 여러개의 트리를 한번에 학습 가능\n",
    "- 단점\n",
    "1. 학습 시간이 오래 걸림"
   ]
  },
  {
   "cell_type": "markdown",
   "metadata": {},
   "source": [
    "#### Random Forest Estimator\n",
    "- sklearn.ensemble.RandomForestClassifier -> 분류\n",
    "- sklearn.ensemble.RandomForestRegressor -> 회귀"
   ]
  },
  {
   "cell_type": "markdown",
   "metadata": {},
   "source": [
    "#### DataFrame 의 replace()\n",
    "- Dataframe 의 .replace() 함수를 이용해서 컬럼의 값을 원하는 형태로 변경\n",
    "ex) 숫자형 값을 문자형으로 ,숫자형 값을 다른 숫자로\n",
    "\n",
    "df['RainToday'].replace({'no':0,'yes':1},inplace=True)"
   ]
  },
  {
   "cell_type": "markdown",
   "metadata": {},
   "source": [
    "#### one-hot Encoding \n",
    "- 범주형 값을 이진화된 값으로 바꿔서 표현하는 것을 의미\n",
    "\n",
    "- 예를 들어, 개,고양이, 말 이라는 3개의 범주형 데이터가 있을 때, 이를 [개=1, 고양이=2, 말=3]이라고 단순하게 integer(label) encoding 으로 변환하여 표현하는 것\n",
    "\n",
    "- 원핫 인코딩을 사용하면 범주형 데이터를 개=[1 0 0],고양이=[0 1 0], 말=[0 0 1] 형태로 해당 레이블을 나타내는 인덱스만 1의 값을 가지고 나머지 부분은 0 값을 가진 Binary value로 표현\n",
    "\n",
    "- 단순한 integer encoding의 문제점은 머신러닝 알고리즘이 정수 값으로부터 잘 못된 경향성을 학습하게 될 수 있음. 예를 들어, 개=1, 말=3의 평균=2를 고양이=2 인 것으로 파악하여 잘못된 경향성을 바탕으로 학습이 가능함.. \n",
    "\n",
    "- get_dummies() 함수 사용"
   ]
  },
  {
   "cell_type": "markdown",
   "metadata": {},
   "source": []
  }
 ],
 "metadata": {
  "language_info": {
   "name": "python"
  },
  "orig_nbformat": 4
 },
 "nbformat": 4,
 "nbformat_minor": 2
}
