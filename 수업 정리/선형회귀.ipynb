{
 "cells": [
  {
   "cell_type": "markdown",
   "metadata": {},
   "source": [
    "#### 선형회귀(Regression)\n",
    "- 선형회귀 모델은 선형 함수를 이용해 회귀를 수행하는 모델 \n",
    "- y= Wx+b\n",
    "- 이때, x,y 는 가지고 있는 데이터이고, W와 b는 데이터에 적합한 값으로 학습될 수 있는 파라미터\n",
    "\n",
    "\n"
   ]
  },
  {
   "cell_type": "markdown",
   "metadata": {},
   "source": [
    "#### Regression 알고리즘의 성능 평가 지표- MSE(Mean Squared Error)\n",
    "\n",
    "- 학습된 예측 모델의 성능을 평가할 수 있어야 함.\n",
    "- Regression 예측모델의 성능평가는 여러가지 형태로 정의할 수 있는데 ,그 중 대표적인 성능 평가 지표가 평균제곱오차!\n"
   ]
  },
  {
   "cell_type": "markdown",
   "metadata": {},
   "source": [
    "![Alt text](image-2.png)"
   ]
  },
  {
   "cell_type": "markdown",
   "metadata": {},
   "source": [
    "- 예를 들어, 정답이 y=[1,10,13,7]이고 모델의 예측 값이 y=[10,3,1,4]와 같을 때, 잘못된 값을 예측한다면 MSE 손실 함수는 아래와 같은 값을 갖음.\n",
    "\n",
    "MSE= {(10-1)^2+(3-10)^2+(1-13)^2+(4-7)^2}/(2*4)=35.375\n",
    "\n",
    "- 하지만, 정답이 y=[1,10,13,7]이고 모델의 예측값이 y=[2,10,11,6]이면 \n",
    "\n",
    "MSE= {(2-1)^2+(10-10)^2+(11-13)^2+(6-7)^2}/(2*4)=1.5\n",
    "\n",
    "- 즉, 테스트 데이터에 대한 MSE가 작은 머신러닝 모델이 좋은 모델!\n",
    "\n"
   ]
  },
  {
   "cell_type": "markdown",
   "metadata": {},
   "source": [
    "#### MAE(Mean Absolute Error)\n",
    "- 예측값과 정답 간의 차이에 절대값을 취한 MSE도 성능 평가 지표로 활용"
   ]
  },
  {
   "cell_type": "markdown",
   "metadata": {},
   "source": [
    "![Alt text](image-3.png)"
   ]
  },
  {
   "cell_type": "markdown",
   "metadata": {},
   "source": [
    "##### MAE 는 MSE 에 비해 이상치에 영향을 적게 받음!! MSE는 이상치기 있으면 제곱을 하면서 그 값이 더 커지지만, 절댓값 처리 하면 좀 더 작기 때문.."
   ]
  },
  {
   "cell_type": "markdown",
   "metadata": {},
   "source": [
    "#### scikit-learn \n",
    "- 머신러닝 모델을 쉽게 구현할 수 있도록 도와주는 라이브러리\n",
    "\n",
    "- 사용법\n",
    "1. Estimator 선언(ex- LinearRegression)\n",
    "2. .fit() 함수 호출을 통한 트레이닝(Training)\n",
    "3. .predict() 함수 호출을 통한 예측(Predict)\n",
    "\n",
    "- scikit-learn 을 이용해서 예측모델을 생성하는 방법\n",
    "train/test data 준비 -> Estimator 선언 -> .fit() -> .predict()\n"
   ]
  },
  {
   "cell_type": "markdown",
   "metadata": {},
   "source": [
    "from skelarn.model_selection import train_test_split\n",
    "\n",
    "#80% 는 트레이닝 데이터 ,20% 는 테스트 데이터로 나눔\n",
    "\n",
    "X_train,X_test,y_train,y_test=train_test_split(X,y,test_size=0.2)\n"
   ]
  },
  {
   "cell_type": "markdown",
   "metadata": {},
   "source": [
    "from sklearn.linear_model import LinearRegression\n",
    "\n",
    "#선형회귀 모델 선언\n",
    "\n",
    "lr=LinearRegression()"
   ]
  },
  {
   "cell_type": "markdown",
   "metadata": {},
   "source": []
  },
  {
   "cell_type": "markdown",
   "metadata": {},
   "source": [
    "from sklearn.metric import mean_squared_error\n",
    "\n",
    "#MSE를 측정\n",
    "\n",
    "MSE=mean_squared_error(y_test,y_preds)\n",
    "\n",
    "#RMSE(Root Mean Squared Error)를 측정\n",
    "\n",
    "RMSE=np.sqrt(MSE)"
   ]
  },
  {
   "cell_type": "markdown",
   "metadata": {},
   "source": []
  }
 ],
 "metadata": {
  "language_info": {
   "name": "python"
  },
  "orig_nbformat": 4
 },
 "nbformat": 4,
 "nbformat_minor": 2
}
