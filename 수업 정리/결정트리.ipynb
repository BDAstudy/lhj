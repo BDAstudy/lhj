{
 "cells": [
  {
   "cell_type": "markdown",
   "metadata": {},
   "source": [
    "#### 결정트리(Decision Tree)\n",
    "\n",
    "- 결정 트리 학습법은 데이터 마이닝에서 일반적으로 사용되는 방법론으로, 몇몇 입력 변수를 바탕으로 목표 변수의 값을 예측하는 모델을 생성하는 것을 목표\n",
    "\n",
    "- 각 내부 노드들은 하나의 입력 변수에 , 자녀 노드들도 이어지는 가지들느 입력 변수의 가능한 값에 대응\n",
    "\n",
    "- 잎 노드 각 입력 변수들이 루트 노드로부터 잎 노드로 이어지는 경로에 해당되는 값들을 가질 때의 목표 변수 값에 해당\n",
    "\n",
    "![Alt text](image-4.png)\n",
    "\n"
   ]
  },
  {
   "cell_type": "markdown",
   "metadata": {},
   "source": [
    "#### 결정 트리 장단점\n",
    "- 장점\n",
    "1. 알고리즘의 동작과정이 직관적이다.\n",
    "2. 학습 시간이 빠르다.\n",
    "3. 개별 Feature 들을 개별적으로 판단하므로 Feature Normalization등이 필요 없음\n",
    "\n",
    "- 단점\n",
    "1. 오버피팅에 빠지기 쉬움\n"
   ]
  },
  {
   "cell_type": "markdown",
   "metadata": {},
   "source": [
    "#### scikit-learn 의 DecisionTree Estimator\n",
    "- scikit-learn 에서 결정 트리를 구현한 Estimator 는 2가지\n",
    "\n",
    "1. sklearn.tree.DecisionTreeClassifier(분류 문제에 사용)\n",
    "\n",
    "2. sklearn.tree.DecisionTreeRegression(회귀 문제에 사용)"
   ]
  },
  {
   "cell_type": "markdown",
   "metadata": {},
   "source": [
    "#### 라벨 인코딩 (LabelEncoding) : 머신러닝 알고리즘은 string(=object)형태의 값을 처리 할 수 없기 때문에 이를 숫자형으로 변경해줘야 함. sckit-learn에서 제공하는 preprocessing.LabelEncoder클래스를 이용하면 string(=object)형태의 값을 숫자형 값으로 변경 가능\n",
    "\n",
    "\n",
    "le=preprocessing.LabelEncoder()\n",
    "le.fit([\"paris\",\"paris\",\"tokyo\",\"amsterdam\"])\n",
    "le.transform([\"tokyo\",\"tokyo\",\"paris\"])\n"
   ]
  },
  {
   "cell_type": "code",
   "execution_count": null,
   "metadata": {
    "vscode": {
     "languageId": "plaintext"
    }
   },
   "outputs": [],
   "source": []
  },
  {
   "cell_type": "markdown",
   "metadata": {},
   "source": []
  }
 ],
 "metadata": {
  "language_info": {
   "name": "python"
  },
  "orig_nbformat": 4
 },
 "nbformat": 4,
 "nbformat_minor": 2
}
