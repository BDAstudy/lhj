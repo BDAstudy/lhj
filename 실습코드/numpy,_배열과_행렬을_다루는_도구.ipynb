{
  "cells": [
    {
      "cell_type": "markdown",
      "metadata": {
        "id": "uTP-8SzOycJT"
      },
      "source": [
        "# numpy, 배열과 행렬을 다루는 도구"
      ]
    },
    {
      "cell_type": "code",
      "execution_count": 1,
      "metadata": {
        "ExecuteTime": {
          "end_time": "2021-03-13T04:02:25.279643Z",
          "start_time": "2021-03-13T04:02:25.116803Z"
        },
        "id": "IY0XYo76ycJd"
      },
      "outputs": [],
      "source": [
        "# numpy 임포트\n",
        "import numpy as np"
      ]
    },
    {
      "cell_type": "markdown",
      "metadata": {
        "id": "7N6Zl8SMycJe"
      },
      "source": [
        "## numpy 기본 1. 다차원 배열 만들기"
      ]
    },
    {
      "cell_type": "code",
      "execution_count": null,
      "metadata": {
        "ExecuteTime": {
          "end_time": "2021-03-13T04:02:25.304620Z",
          "start_time": "2021-03-13T04:02:25.283640Z"
        },
        "colab": {
          "base_uri": "https://localhost:8080/"
        },
        "id": "fIgRhjdkycJf",
        "outputId": "c6d2c127-fea8-4e93-e686-bcf3e18db461"
      },
      "outputs": [
        {
          "data": {
            "text/plain": [
              "array([1, 2, 3, 4])"
            ]
          },
          "execution_count": 2,
          "metadata": {
            "tags": []
          },
          "output_type": "execute_result"
        }
      ],
      "source": [
        "# 1차원 배열 생성하기\n",
        "넘파이_배열1 = np.array([1,2,3,4])\n",
        "넘파이_배열1"
      ]
    },
    {
      "cell_type": "code",
      "execution_count": null,
      "metadata": {
        "ExecuteTime": {
          "end_time": "2021-03-13T04:02:25.318605Z",
          "start_time": "2021-03-13T04:02:25.309615Z"
        },
        "colab": {
          "base_uri": "https://localhost:8080/"
        },
        "id": "85xhNr-mycJf",
        "outputId": "ae25f6d5-bb21-427c-8987-ed560685c90e"
      },
      "outputs": [
        {
          "data": {
            "text/plain": [
              "array([[ 1,  2,  3,  4],\n",
              "       [11, 12, 13, 14]])"
            ]
          },
          "execution_count": 3,
          "metadata": {
            "tags": []
          },
          "output_type": "execute_result"
        }
      ],
      "source": [
        "# 2차원 배열 생성하기\n",
        "넘파이_배열2 = np.array([[1,2,3,4],[11,12,13,14]])\n",
        "넘파이_배열2"
      ]
    },
    {
      "cell_type": "code",
      "execution_count": null,
      "metadata": {
        "ExecuteTime": {
          "end_time": "2021-03-13T04:02:25.331591Z",
          "start_time": "2021-03-13T04:02:25.324598Z"
        },
        "colab": {
          "base_uri": "https://localhost:8080/"
        },
        "id": "gS2dJgavycJg",
        "outputId": "edd913da-9103-4a36-ce4a-567dc8e26dc1"
      },
      "outputs": [
        {
          "data": {
            "text/plain": [
              "array([[[ 1,  2,  3,  4],\n",
              "        [11, 12, 13, 14]],\n",
              "\n",
              "       [[21, 22, 23, 24],\n",
              "        [31, 32, 33, 34]]])"
            ]
          },
          "execution_count": 4,
          "metadata": {
            "tags": []
          },
          "output_type": "execute_result"
        }
      ],
      "source": [
        "# 3차원 배열 생성하기\n",
        "넘파이_배열3 = np.array([ [[1,2,3,4],[11,12,13,14]],\n",
        "                [[21,22,23,24],[31,32,33,34]] ])\n",
        "넘파이_배열3"
      ]
    },
    {
      "cell_type": "code",
      "execution_count": null,
      "metadata": {
        "ExecuteTime": {
          "end_time": "2021-03-13T04:02:25.342581Z",
          "start_time": "2021-03-13T04:02:25.333590Z"
        },
        "colab": {
          "base_uri": "https://localhost:8080/"
        },
        "id": "Iin7l0MYycJh",
        "outputId": "c54fa846-fe86-40c3-808e-c24643571fec"
      },
      "outputs": [
        {
          "name": "stdout",
          "output_type": "stream",
          "text": [
            "(4,)\n",
            "(2, 4)\n",
            "(2, 2, 4)\n"
          ]
        }
      ],
      "source": [
        "# 배열의 모양 보기\n",
        "print(넘파이_배열1.shape)\n",
        "print(넘파이_배열2.shape)\n",
        "print(넘파이_배열3.shape)"
      ]
    },
    {
      "cell_type": "code",
      "execution_count": null,
      "metadata": {
        "ExecuteTime": {
          "end_time": "2021-03-13T04:02:25.353572Z",
          "start_time": "2021-03-13T04:02:25.344578Z"
        },
        "id": "37Pvob-YycJi"
      },
      "outputs": [],
      "source": [
        "z1 = np.zeros([4])    # 0 으로 채운 배열 만들기\n",
        "o2 = np.ones([3,4])   # 1 로 채운 배열 만들기\n",
        "r2 = np.random.randn(2,3)   # 랜덤한 숫자 배열 만들기"
      ]
    },
    {
      "cell_type": "code",
      "execution_count": null,
      "metadata": {
        "ExecuteTime": {
          "end_time": "2021-03-13T04:02:25.366557Z",
          "start_time": "2021-03-13T04:02:25.356568Z"
        },
        "colab": {
          "base_uri": "https://localhost:8080/"
        },
        "id": "xLmXp46EycJm",
        "outputId": "2de4ab27-afe4-4ad6-8091-c70e27dddb12"
      },
      "outputs": [
        {
          "data": {
            "text/plain": [
              "(array([0., 0., 0., 0.]), array([[1., 1., 1., 1.],\n",
              "        [1., 1., 1., 1.],\n",
              "        [1., 1., 1., 1.]]), array([[ 1.40191733, -0.45638921,  0.65412827],\n",
              "        [ 0.37313099, -0.6024571 ,  1.04497119]]))"
            ]
          },
          "execution_count": 7,
          "metadata": {
            "tags": []
          },
          "output_type": "execute_result"
        }
      ],
      "source": [
        "z1, o2, r2"
      ]
    },
    {
      "cell_type": "code",
      "execution_count": null,
      "metadata": {
        "ExecuteTime": {
          "end_time": "2021-03-13T04:02:25.377546Z",
          "start_time": "2021-03-13T04:02:25.371552Z"
        },
        "colab": {
          "base_uri": "https://localhost:8080/"
        },
        "id": "2FLRIEsQycJm",
        "outputId": "d39d768d-5312-4720-ef82-ccbb10c95ae8"
      },
      "outputs": [
        {
          "name": "stdout",
          "output_type": "stream",
          "text": [
            "(4,)\n",
            "(3, 4)\n",
            "(2, 3)\n"
          ]
        }
      ],
      "source": [
        "# 배열의 모양 보기\n",
        "print(z1.shape)\n",
        "print(o2.shape)\n",
        "print(r2.shape)"
      ]
    },
    {
      "cell_type": "code",
      "execution_count": null,
      "metadata": {
        "ExecuteTime": {
          "end_time": "2021-03-13T04:02:25.393532Z",
          "start_time": "2021-03-13T04:02:25.384540Z"
        },
        "colab": {
          "base_uri": "https://localhost:8080/"
        },
        "id": "ymFqkU90ycJn",
        "outputId": "0527ec01-7e27-4574-c50f-42bd61f51c2e"
      },
      "outputs": [
        {
          "data": {
            "text/plain": [
              "array([[[[-0.65 , -2.849,  0.858, -0.571,  0.139],\n",
              "         [-0.971,  0.039,  1.474,  1.128,  0.602],\n",
              "         [ 0.028,  0.589, -0.634, -1.564, -0.937],\n",
              "         [ 1.387,  0.3  ,  0.234, -0.557,  1.662]],\n",
              "\n",
              "        [[-0.763, -1.209, -0.948, -1.312, -1.073],\n",
              "         [-0.588, -0.518,  0.89 ,  0.345,  0.017],\n",
              "         [ 0.754,  0.313, -1.566,  0.371,  0.07 ],\n",
              "         [-1.037, -1.447,  2.982,  0.042,  1.948]]],\n",
              "\n",
              "\n",
              "       [[[-1.536, -0.   , -0.863,  2.782,  0.894],\n",
              "         [ 0.649, -0.011,  1.074,  0.227, -0.499],\n",
              "         [-0.578, -1.351,  0.514,  0.489, -0.084],\n",
              "         [-1.246, -0.472,  2.041, -0.244,  0.837]],\n",
              "\n",
              "        [[ 1.435, -1.16 , -0.58 , -0.927, -0.39 ],\n",
              "         [-0.758,  0.313,  0.995, -0.919, -1.192],\n",
              "         [-1.809,  0.902,  1.996,  1.292,  0.354],\n",
              "         [-0.969,  0.772,  0.754, -1.051,  0.172]]]])"
            ]
          },
          "execution_count": 11,
          "metadata": {
            "tags": []
          },
          "output_type": "execute_result"
        }
      ],
      "source": [
        "# 무척 큰 4차원 배열 생성해보기\n",
        "r4 = np.random.randn(2,2,4,5).round(3)\n",
        "r4"
      ]
    },
    {
      "cell_type": "markdown",
      "metadata": {
        "id": "uMA98k3OycJn"
      },
      "source": [
        "### <연습문제>\n",
        "1  3  5  7  9  \n",
        "2  4  6  8  10  \n",
        "  \n",
        "형태의 2x5 행렬을 만들어 보세요"
      ]
    },
    {
      "cell_type": "code",
      "execution_count": null,
      "metadata": {
        "id": "BZmGHzoLycJn"
      },
      "outputs": [],
      "source": []
    },
    {
      "cell_type": "markdown",
      "metadata": {
        "id": "vhTyW_n9ycJn"
      },
      "source": [
        "## numpy 기본 2. Indexing과 Slicing"
      ]
    },
    {
      "cell_type": "code",
      "execution_count": null,
      "metadata": {
        "ExecuteTime": {
          "end_time": "2021-03-13T04:02:25.411513Z",
          "start_time": "2021-03-13T04:02:25.401523Z"
        },
        "colab": {
          "base_uri": "https://localhost:8080/"
        },
        "id": "RMJzQ19tycJo",
        "outputId": "0ffbc874-7a02-471b-9046-9af5f3c02d4e"
      },
      "outputs": [
        {
          "data": {
            "text/plain": [
              "array([[-1.536, -0.   , -0.863,  2.782,  0.894],\n",
              "       [ 0.649, -0.011,  1.074,  0.227, -0.499],\n",
              "       [-0.578, -1.351,  0.514,  0.489, -0.084],\n",
              "       [-1.246, -0.472,  2.041, -0.244,  0.837]])"
            ]
          },
          "execution_count": 12,
          "metadata": {
            "tags": []
          },
          "output_type": "execute_result"
        }
      ],
      "source": [
        "# r4 배열에서, [두번째][첫번째] 접근해서 가져오기\n",
        "r4[1][0]"
      ]
    },
    {
      "cell_type": "code",
      "execution_count": null,
      "metadata": {
        "ExecuteTime": {
          "end_time": "2021-03-13T04:02:25.425501Z",
          "start_time": "2021-03-13T04:02:25.418507Z"
        },
        "colab": {
          "base_uri": "https://localhost:8080/"
        },
        "id": "jERLz2jAycJo",
        "outputId": "4384b197-dca0-4490-82cd-478a509b9023"
      },
      "outputs": [
        {
          "data": {
            "text/plain": [
              "array([-0.578, -1.351,  0.514,  0.489, -0.084])"
            ]
          },
          "execution_count": 13,
          "metadata": {
            "tags": []
          },
          "output_type": "execute_result"
        }
      ],
      "source": [
        "r4[1][0][2]"
      ]
    },
    {
      "cell_type": "code",
      "execution_count": null,
      "metadata": {
        "ExecuteTime": {
          "end_time": "2021-03-13T04:02:25.440485Z",
          "start_time": "2021-03-13T04:02:25.427498Z"
        },
        "colab": {
          "base_uri": "https://localhost:8080/"
        },
        "id": "dmwtHqGWycJo",
        "outputId": "c9123ae5-52d2-4e68-8635-80a8fa422549"
      },
      "outputs": [
        {
          "data": {
            "text/plain": [
              "-0.084"
            ]
          },
          "execution_count": 14,
          "metadata": {
            "tags": []
          },
          "output_type": "execute_result"
        }
      ],
      "source": [
        "r4[1][0][2][4]"
      ]
    },
    {
      "cell_type": "code",
      "execution_count": null,
      "metadata": {
        "ExecuteTime": {
          "end_time": "2021-03-13T04:02:25.454473Z",
          "start_time": "2021-03-13T04:02:25.444482Z"
        },
        "colab": {
          "base_uri": "https://localhost:8080/"
        },
        "id": "w3qOEoosycJo",
        "outputId": "96002cb1-8f36-44c4-c870-3d64290824d6"
      },
      "outputs": [
        {
          "data": {
            "text/plain": [
              "-0.084"
            ]
          },
          "execution_count": 15,
          "metadata": {
            "tags": []
          },
          "output_type": "execute_result"
        }
      ],
      "source": [
        "r4[1,0,2,4]   # 대괄호 대신 쉼표 , 도 차원 접근이 가능"
      ]
    },
    {
      "cell_type": "code",
      "execution_count": null,
      "metadata": {
        "ExecuteTime": {
          "end_time": "2021-03-13T04:02:25.465460Z",
          "start_time": "2021-03-13T04:02:25.457468Z"
        },
        "colab": {
          "base_uri": "https://localhost:8080/"
        },
        "id": "2XFluCoHycJo",
        "outputId": "9dfbfee9-322a-49a9-820a-55a36afd1f19"
      },
      "outputs": [
        {
          "data": {
            "text/plain": [
              "array([-0.578,  0.514])"
            ]
          },
          "execution_count": 16,
          "metadata": {
            "tags": []
          },
          "output_type": "execute_result"
        }
      ],
      "source": [
        "r4[1][0][2][0:4:2]"
      ]
    },
    {
      "cell_type": "code",
      "execution_count": null,
      "metadata": {
        "ExecuteTime": {
          "end_time": "2021-03-13T04:02:25.479446Z",
          "start_time": "2021-03-13T04:02:25.471454Z"
        },
        "colab": {
          "base_uri": "https://localhost:8080/"
        },
        "id": "nsr2NpGYycJp",
        "outputId": "679c7447-7679-4262-c183-ef4289d1b12a"
      },
      "outputs": [
        {
          "data": {
            "text/plain": [
              "array([[ 0.649, -0.011,  1.074,  0.227, -0.499],\n",
              "       [-1.246, -0.472,  2.041, -0.244,  0.837]])"
            ]
          },
          "execution_count": 17,
          "metadata": {
            "tags": []
          },
          "output_type": "execute_result"
        }
      ],
      "source": [
        "r4[1][0][1:4:2]"
      ]
    },
    {
      "cell_type": "code",
      "execution_count": null,
      "metadata": {
        "ExecuteTime": {
          "end_time": "2021-03-13T04:02:25.491434Z",
          "start_time": "2021-03-13T04:02:25.482443Z"
        },
        "colab": {
          "base_uri": "https://localhost:8080/"
        },
        "id": "pWbzUCZbycJp",
        "outputId": "116981b1-d34d-4041-83c0-a69f0079dfff"
      },
      "outputs": [
        {
          "data": {
            "text/plain": [
              "array([-0.244,  0.837])"
            ]
          },
          "execution_count": 18,
          "metadata": {
            "tags": []
          },
          "output_type": "execute_result"
        }
      ],
      "source": [
        "# Indexing과 Slicing 같이 적용하기\n",
        "r4[1][0][1:4:2][1][3:]"
      ]
    },
    {
      "cell_type": "code",
      "execution_count": null,
      "metadata": {
        "ExecuteTime": {
          "end_time": "2021-03-13T04:02:25.502423Z",
          "start_time": "2021-03-13T04:02:25.494432Z"
        },
        "colab": {
          "base_uri": "https://localhost:8080/"
        },
        "id": "h_Fhc-mVycJp",
        "outputId": "27f8d1ec-c03b-462e-8810-453fbdc34d9f"
      },
      "outputs": [
        {
          "data": {
            "text/plain": [
              "array([-0.244,  0.837])"
            ]
          },
          "execution_count": 19,
          "metadata": {
            "tags": []
          },
          "output_type": "execute_result"
        }
      ],
      "source": [
        "r4[1,0][1:4:2][1,3:]   # 모두 다 짬뽕!!"
      ]
    },
    {
      "cell_type": "markdown",
      "metadata": {
        "id": "eeXdCr2cycJp"
      },
      "source": [
        "## numpy 기본 3. 배열 간 연산, Broadcasting, Aggregation"
      ]
    },
    {
      "cell_type": "code",
      "execution_count": null,
      "metadata": {
        "ExecuteTime": {
          "end_time": "2021-03-13T04:02:25.517409Z",
          "start_time": "2021-03-13T04:02:25.509419Z"
        },
        "colab": {
          "base_uri": "https://localhost:8080/"
        },
        "id": "FwQLMQiZycJp",
        "outputId": "d518ec5d-166b-4dbc-c773-f9d157253a42"
      },
      "outputs": [
        {
          "data": {
            "text/plain": [
              "array([[ 1,  2,  3,  4],\n",
              "       [10, 11, 12, 13]])"
            ]
          },
          "execution_count": 20,
          "metadata": {
            "tags": []
          },
          "output_type": "execute_result"
        }
      ],
      "source": [
        "arr = np.array([[1,2,3,4],[10,11,12,13]])\n",
        "arr"
      ]
    },
    {
      "cell_type": "code",
      "execution_count": null,
      "metadata": {
        "ExecuteTime": {
          "end_time": "2021-03-13T04:02:25.529397Z",
          "start_time": "2021-03-13T04:02:25.523404Z"
        },
        "colab": {
          "base_uri": "https://localhost:8080/"
        },
        "id": "sxW4eeo-ycJp",
        "outputId": "dbc0728a-eb4b-4d47-e524-c2bd491c01a4"
      },
      "outputs": [
        {
          "data": {
            "text/plain": [
              "array([[ 2,  4,  6,  8],\n",
              "       [20, 22, 24, 26]])"
            ]
          },
          "execution_count": 21,
          "metadata": {
            "tags": []
          },
          "output_type": "execute_result"
        }
      ],
      "source": [
        "arr + arr    # 배열끼리 연산하기 (＋－*/ 모두 가능)"
      ]
    },
    {
      "cell_type": "code",
      "execution_count": null,
      "metadata": {
        "ExecuteTime": {
          "end_time": "2021-03-13T04:02:25.544382Z",
          "start_time": "2021-03-13T04:02:25.532394Z"
        },
        "colab": {
          "base_uri": "https://localhost:8080/"
        },
        "id": "-CathQUtycJq",
        "outputId": "21dfa635-7fc6-4b67-b3dc-1a15546b3279"
      },
      "outputs": [
        {
          "data": {
            "text/plain": [
              "array([[21, 22, 23, 24],\n",
              "       [30, 31, 32, 33]])"
            ]
          },
          "execution_count": 22,
          "metadata": {
            "tags": []
          },
          "output_type": "execute_result"
        }
      ],
      "source": [
        "arr + 20     # 덧셈 브로드캐스팅"
      ]
    },
    {
      "cell_type": "code",
      "execution_count": null,
      "metadata": {
        "ExecuteTime": {
          "end_time": "2021-03-13T04:02:25.554372Z",
          "start_time": "2021-03-13T04:02:25.547380Z"
        },
        "colab": {
          "base_uri": "https://localhost:8080/"
        },
        "id": "Mf9bjB1NycJq",
        "outputId": "8b530c31-dbf9-4994-e150-bccc997be14e"
      },
      "outputs": [
        {
          "data": {
            "text/plain": [
              "array([[ 100,  200,  300,  400],\n",
              "       [1000, 1100, 1200, 1300]])"
            ]
          },
          "execution_count": 23,
          "metadata": {
            "tags": []
          },
          "output_type": "execute_result"
        }
      ],
      "source": [
        "arr * 100    # 곱셈 브로드캐스팅"
      ]
    },
    {
      "cell_type": "code",
      "execution_count": null,
      "metadata": {
        "ExecuteTime": {
          "end_time": "2021-03-13T04:02:25.571355Z",
          "start_time": "2021-03-13T04:02:25.561369Z"
        },
        "colab": {
          "base_uri": "https://localhost:8080/"
        },
        "id": "Kwmn62qNycJr",
        "outputId": "9f8c78fd-ddb0-49e6-e0a6-674aecc836a4"
      },
      "outputs": [
        {
          "data": {
            "text/plain": [
              "(56, 7.0, 411840, 13, 1)"
            ]
          },
          "execution_count": 24,
          "metadata": {
            "tags": []
          },
          "output_type": "execute_result"
        }
      ],
      "source": [
        "# 배열 전체의 덧셈, 평균, 곱셈, 최댓값, 최솟값\n",
        "arr.sum(), arr.mean(), arr.prod(), arr.max(), arr.min()"
      ]
    },
    {
      "cell_type": "code",
      "execution_count": null,
      "metadata": {
        "ExecuteTime": {
          "end_time": "2021-03-13T04:02:25.582345Z",
          "start_time": "2021-03-13T04:02:25.575353Z"
        },
        "colab": {
          "base_uri": "https://localhost:8080/"
        },
        "id": "VpacetWhycJr",
        "outputId": "44ddd52c-e0e1-4546-a9c5-8913af5912b3"
      },
      "outputs": [
        {
          "data": {
            "text/plain": [
              "(7, 3, 0)"
            ]
          },
          "execution_count": 25,
          "metadata": {
            "tags": []
          },
          "output_type": "execute_result"
        }
      ],
      "source": [
        "# 배열에서의 최대인 원소의 번호, 최소인 원소의 번호\n",
        "arr.argmax(), arr[1].argmax(), arr.argmin()"
      ]
    },
    {
      "cell_type": "code",
      "execution_count": null,
      "metadata": {
        "ExecuteTime": {
          "end_time": "2021-03-13T04:02:25.593334Z",
          "start_time": "2021-03-13T04:02:25.587341Z"
        },
        "colab": {
          "base_uri": "https://localhost:8080/"
        },
        "id": "95sWYtcRycJr",
        "outputId": "c5139008-ff9d-4850-80ad-85e722c7e0f0"
      },
      "outputs": [
        {
          "data": {
            "text/plain": [
              "(array([11, 13, 15, 17]), array([10, 46]))"
            ]
          },
          "execution_count": 26,
          "metadata": {
            "tags": []
          },
          "output_type": "execute_result"
        }
      ],
      "source": [
        "# 특정 축(차원)으로 덧셈 수행하기\n",
        "arr.sum(axis=0), arr.sum(axis=1)"
      ]
    },
    {
      "cell_type": "code",
      "execution_count": null,
      "metadata": {
        "ExecuteTime": {
          "end_time": "2021-03-13T04:02:25.606321Z",
          "start_time": "2021-03-13T04:02:25.596332Z"
        },
        "colab": {
          "base_uri": "https://localhost:8080/"
        },
        "id": "EOWQec38ycJr",
        "outputId": "94543fa9-e558-4167-a65e-7392d4db120b"
      },
      "outputs": [
        {
          "data": {
            "text/plain": [
              "(10, 25)"
            ]
          },
          "execution_count": 27,
          "metadata": {
            "tags": []
          },
          "output_type": "execute_result"
        }
      ],
      "source": [
        "# Indexing + Slicing + Aggregation 응용\n",
        "arr[1].min(), arr[1][2:].sum()"
      ]
    },
    {
      "cell_type": "markdown",
      "metadata": {
        "ExecuteTime": {
          "end_time": "2021-03-06T17:53:13.038629Z",
          "start_time": "2021-03-06T17:53:13.035632Z"
        },
        "id": "UOoHZ-h1ycJs"
      },
      "source": [
        "## numpy 기본 4. 고급 Broadcasting"
      ]
    },
    {
      "cell_type": "code",
      "execution_count": null,
      "metadata": {
        "ExecuteTime": {
          "end_time": "2021-03-13T04:02:25.619308Z",
          "start_time": "2021-03-13T04:02:25.608319Z"
        },
        "colab": {
          "base_uri": "https://localhost:8080/"
        },
        "id": "VMZJ778UycJs",
        "outputId": "1c86cad5-04a8-4ac6-85ef-541adc0a2d7d"
      },
      "outputs": [
        {
          "data": {
            "text/plain": [
              "((4, 3), (4, 3))"
            ]
          },
          "execution_count": 28,
          "metadata": {
            "tags": []
          },
          "output_type": "execute_result"
        }
      ],
      "source": [
        "arr1 = np.array([[0,0,0],[10,10,10],[20,20,20],[30,30,30]])\n",
        "arr2 = np.array([[0,1,2],[0,1,2],[0,1,2],[0,1,2]])\n",
        "arr1.shape, arr2.shape"
      ]
    },
    {
      "cell_type": "code",
      "execution_count": null,
      "metadata": {
        "ExecuteTime": {
          "end_time": "2021-03-13T04:02:25.628300Z",
          "start_time": "2021-03-13T04:02:25.622306Z"
        },
        "colab": {
          "base_uri": "https://localhost:8080/"
        },
        "id": "G3Gr1xhMycJs",
        "outputId": "e18c3da2-5769-44a9-b847-d9842b45e186"
      },
      "outputs": [
        {
          "data": {
            "text/plain": [
              "array([[ 0,  1,  2],\n",
              "       [10, 11, 12],\n",
              "       [20, 21, 22],\n",
              "       [30, 31, 32]])"
            ]
          },
          "execution_count": 29,
          "metadata": {
            "tags": []
          },
          "output_type": "execute_result"
        }
      ],
      "source": [
        "arr1 + arr2          # (4x3)  +  (4x3)"
      ]
    },
    {
      "cell_type": "code",
      "execution_count": null,
      "metadata": {
        "ExecuteTime": {
          "end_time": "2021-03-13T04:02:25.641286Z",
          "start_time": "2021-03-13T04:02:25.630297Z"
        },
        "colab": {
          "base_uri": "https://localhost:8080/"
        },
        "id": "EC4npxFpycJs",
        "outputId": "fe62fd25-faa4-4de5-faea-e5c623d82e3c"
      },
      "outputs": [
        {
          "data": {
            "text/plain": [
              "array([[ 0,  1,  2],\n",
              "       [10, 11, 12],\n",
              "       [20, 21, 22],\n",
              "       [30, 31, 32]])"
            ]
          },
          "execution_count": 30,
          "metadata": {
            "tags": []
          },
          "output_type": "execute_result"
        }
      ],
      "source": [
        "arr1 + np.array([0,1,2])     # (4x3) + (1x3)"
      ]
    },
    {
      "cell_type": "code",
      "execution_count": null,
      "metadata": {
        "ExecuteTime": {
          "end_time": "2021-03-13T04:02:25.656271Z",
          "start_time": "2021-03-13T04:02:25.644284Z"
        },
        "colab": {
          "base_uri": "https://localhost:8080/"
        },
        "id": "MTEyAvWLycJs",
        "outputId": "0b0b22d3-6b88-40fa-bd23-77a70c93b37e"
      },
      "outputs": [
        {
          "data": {
            "text/plain": [
              "array([[ 0,  1,  2],\n",
              "       [10, 11, 12],\n",
              "       [20, 21, 22],\n",
              "       [30, 31, 32]])"
            ]
          },
          "execution_count": 31,
          "metadata": {
            "tags": []
          },
          "output_type": "execute_result"
        }
      ],
      "source": [
        "#  (4x1) + (1x3)\n",
        "np.array([[0],[10],[20],[30]]) + np.array([0,1,2])"
      ]
    },
    {
      "cell_type": "code",
      "execution_count": null,
      "metadata": {
        "colab": {
          "base_uri": "https://localhost:8080/"
        },
        "id": "FAp_cSpSycJt",
        "outputId": "52988d6c-dd38-485a-ede7-262a8d2f674b"
      },
      "outputs": [
        {
          "data": {
            "text/plain": [
              "array([0, 1, 2])"
            ]
          },
          "execution_count": 33,
          "metadata": {
            "tags": []
          },
          "output_type": "execute_result"
        }
      ],
      "source": [
        "np.array([0,1,2])"
      ]
    }
  ],
  "metadata": {
    "colab": {
      "provenance": []
    },
    "kernelspec": {
      "display_name": "Python 3",
      "name": "python3"
    },
    "language_info": {
      "codemirror_mode": {
        "name": "ipython",
        "version": 3
      },
      "file_extension": ".py",
      "mimetype": "text/x-python",
      "name": "python",
      "nbconvert_exporter": "python",
      "pygments_lexer": "ipython3",
      "version": "3.11.5"
    },
    "toc": {
      "base_numbering": 1,
      "nav_menu": {
        "height": "144px",
        "width": "160px"
      },
      "number_sections": false,
      "sideBar": true,
      "skip_h1_title": false,
      "title_cell": "Table of Contents",
      "title_sidebar": "Contents",
      "toc_cell": false,
      "toc_position": {
        "height": "calc(100% - 180px)",
        "left": "10px",
        "top": "150px",
        "width": "211px"
      },
      "toc_section_display": true,
      "toc_window_display": true
    },
    "varInspector": {
      "cols": {
        "lenName": 16,
        "lenType": 16,
        "lenVar": 40
      },
      "kernels_config": {
        "python": {
          "delete_cmd_postfix": "",
          "delete_cmd_prefix": "del ",
          "library": "var_list.py",
          "varRefreshCmd": "print(var_dic_list())"
        },
        "r": {
          "delete_cmd_postfix": ") ",
          "delete_cmd_prefix": "rm(",
          "library": "var_list.r",
          "varRefreshCmd": "cat(var_dic_list()) "
        }
      },
      "types_to_exclude": [
        "module",
        "function",
        "builtin_function_or_method",
        "instance",
        "_Feature"
      ],
      "window_display": false
    }
  },
  "nbformat": 4,
  "nbformat_minor": 0
}
