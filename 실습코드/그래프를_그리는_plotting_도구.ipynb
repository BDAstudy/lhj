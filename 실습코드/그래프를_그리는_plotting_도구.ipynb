{
  "cells": [
    {
      "cell_type": "markdown",
      "metadata": {
        "id": "Ogyaijomzeg0"
      },
      "source": [
        "# 그래프를 그리는 plotting 도구: matplotlib, seaborn"
      ]
    },
    {
      "cell_type": "code",
      "execution_count": 1,
      "metadata": {
        "ExecuteTime": {
          "end_time": "2021-03-13T04:10:37.707611Z",
          "start_time": "2021-03-13T04:10:37.703615Z"
        },
        "id": "TvBjh8M4zeg2"
      },
      "outputs": [],
      "source": [
        "# numpy, pandas 임포트\n",
        "import numpy as np\n",
        "import pandas as pd"
      ]
    },
    {
      "cell_type": "markdown",
      "metadata": {
        "id": "TyTBypABzeg4"
      },
      "source": [
        "## 데이터 준비\n",
        "### **먼저 아래 링크에서 stock.adj_close.csv 파일을 다운로드 받고, colab에 업로드합니다.**\n",
        "#### https://drive.google.com/file/d/1AnWjtW9bdIqBEnxeOMfST_Pxx2IVQfMJ/view?usp=sharing"
      ]
    },
    {
      "cell_type": "code",
      "execution_count": null,
      "metadata": {
        "ExecuteTime": {
          "end_time": "2021-03-13T04:10:38.051272Z",
          "start_time": "2021-03-13T04:10:37.710609Z"
        },
        "id": "ofQtIOaYzeg4"
      },
      "outputs": [],
      "source": [
        "주가_데이터 = pd.read_csv('stock.adj_close.csv', index_col=0)\n",
        "my_series = 주가_데이터.loc['A005930']['2020-09-09':]\n",
        "my_df = 주가_데이터.T.loc['2020-09-09':,'A005900':'A006000']\n",
        "my_df_2 = my_df.loc[:'2020-09-11','A005960':]"
      ]
    },
    {
      "cell_type": "code",
      "execution_count": null,
      "metadata": {
        "ExecuteTime": {
          "end_time": "2021-03-13T04:10:38.070253Z",
          "start_time": "2021-03-13T04:10:38.056268Z"
        },
        "id": "HhFwBN2hzeg5"
      },
      "outputs": [],
      "source": [
        "trafic_data = pd.DataFrame(\n",
        "    [[9800,5500,7000],[10200,6600,6500],[7800,4500,8700]],\n",
        "    index=['10/22','10/23','10/24'],\n",
        "    columns=['원티드','사람인','중고나라'])\n",
        "trafic_data   # trafic_data 라는 DataFrame 생성"
      ]
    },
    {
      "cell_type": "markdown",
      "metadata": {
        "id": "Lw3meIZszeg6"
      },
      "source": [
        "# matplotlib으로 그래프 그리기"
      ]
    },
    {
      "cell_type": "code",
      "execution_count": null,
      "metadata": {
        "id": "bpZexxEO4pQp"
      },
      "outputs": [],
      "source": [
        "# COLAB 환경을 위한 나눔고딕 한글폰트 설치  --> 진행 후,  런타임 > 런타임 다시 시작을 해 주세요. 다시 시작 후에는 이 부분 실행 X\n",
        "!sudo apt-get install -y fonts-nanum\n",
        "!sudo fc-cache -fv\n",
        "!rm ~/.cache/matplotlib -rf"
      ]
    },
    {
      "cell_type": "code",
      "execution_count": null,
      "metadata": {
        "ExecuteTime": {
          "end_time": "2021-03-13T04:10:38.080244Z",
          "start_time": "2021-03-13T04:10:38.073252Z"
        },
        "id": "EdHf8FD9zeg6"
      },
      "outputs": [],
      "source": [
        "# matplotlib 임포트,  주피터 출력설정,  한글 글꼴 지정\n",
        "import matplotlib.pyplot as plt\n",
        "%matplotlib inline\n",
        "\n",
        "plt.rcParams['font.family'] = 'NanumBarunGothic'  # (Colab 용) 한글 출력을 위한 글꼴 설정\n",
        "#plt.rcParams['font.family'] = 'Malgun Gothic'  # (Windows 용)\n",
        "#plt.rcParams['font.family'] = 'AppleGothic'  # (MAC, 리눅스 용)"
      ]
    },
    {
      "cell_type": "code",
      "execution_count": null,
      "metadata": {
        "ExecuteTime": {
          "end_time": "2021-03-13T04:10:38.261067Z",
          "start_time": "2021-03-13T04:10:38.083241Z"
        },
        "id": "5-qqBSHZzeg7"
      },
      "outputs": [],
      "source": [
        "my_df.loc[:,'A005930'].plot();  # Series 그래프"
      ]
    },
    {
      "cell_type": "code",
      "execution_count": null,
      "metadata": {
        "ExecuteTime": {
          "end_time": "2021-03-13T04:10:38.541789Z",
          "start_time": "2021-03-13T04:10:38.266061Z"
        },
        "id": "lL0bYUDyzeg7"
      },
      "outputs": [],
      "source": [
        "my_df.plot(grid=True);  # DataFrame 그래프"
      ]
    },
    {
      "cell_type": "code",
      "execution_count": null,
      "metadata": {
        "ExecuteTime": {
          "end_time": "2021-03-13T04:10:38.785550Z",
          "start_time": "2021-03-13T04:10:38.545785Z"
        },
        "id": "NDt6wce5zeg8"
      },
      "outputs": [],
      "source": [
        "my_df_2.plot(kind='bar', title='주가 흐름');"
      ]
    },
    {
      "cell_type": "code",
      "execution_count": null,
      "metadata": {
        "ExecuteTime": {
          "end_time": "2021-03-13T04:10:39.059279Z",
          "start_time": "2021-03-13T04:10:38.788545Z"
        },
        "id": "3Uqkp4H4zeg8"
      },
      "outputs": [],
      "source": [
        "trafic_data.plot(kind='scatter', grid=True,\n",
        "                 x='원티드', y='사람인');"
      ]
    },
    {
      "cell_type": "code",
      "execution_count": null,
      "metadata": {
        "ExecuteTime": {
          "end_time": "2021-03-13T04:10:39.709638Z",
          "start_time": "2021-03-13T04:10:39.061276Z"
        },
        "id": "xv0M55L2zeg8"
      },
      "outputs": [],
      "source": [
        "trafic_data.plot(subplots=True);"
      ]
    },
    {
      "cell_type": "markdown",
      "metadata": {
        "id": "8E9WAm4nzeg9"
      },
      "source": [
        "### <연습문제>\n",
        "trafic_data에서  '중고나라'의 일자별 Bar 그래프를 그려보세요"
      ]
    },
    {
      "cell_type": "code",
      "execution_count": null,
      "metadata": {
        "ExecuteTime": {
          "end_time": "2021-03-06T17:53:16.603138Z",
          "start_time": "2021-03-06T17:53:16.495067Z"
        },
        "id": "H_vN5kGzzeg9"
      },
      "outputs": [],
      "source": []
    },
    {
      "cell_type": "markdown",
      "metadata": {
        "id": "jRcHYGHAzeg9"
      },
      "source": [
        "# seaborn 으로 데이터 분포 살펴보기"
      ]
    },
    {
      "cell_type": "code",
      "execution_count": null,
      "metadata": {
        "ExecuteTime": {
          "end_time": "2021-03-13T04:10:40.489868Z",
          "start_time": "2021-03-13T04:10:39.710636Z"
        },
        "id": "nFGB-dnqzeg-"
      },
      "outputs": [],
      "source": [
        "# seaborn 임포트,  한글 글꼴 지정\n",
        "import seaborn as sns\n",
        "sns.set()\n",
        "plt.rc('font', family='NanumBarunGothic')"
      ]
    },
    {
      "cell_type": "code",
      "execution_count": null,
      "metadata": {
        "ExecuteTime": {
          "end_time": "2021-03-13T04:10:40.510848Z",
          "start_time": "2021-03-13T04:10:40.492866Z"
        },
        "id": "nVdyl-xuzeg-"
      },
      "outputs": [],
      "source": [
        "tips = sns.load_dataset('tips')  # 내장 데이터 셋 불러오기"
      ]
    },
    {
      "cell_type": "code",
      "execution_count": null,
      "metadata": {
        "ExecuteTime": {
          "end_time": "2021-03-13T04:10:40.530828Z",
          "start_time": "2021-03-13T04:10:40.511846Z"
        },
        "id": "P78WUEuozeg-"
      },
      "outputs": [],
      "source": [
        "tips.head()    # dataframe의 앞부분만 살펴보기"
      ]
    },
    {
      "cell_type": "code",
      "execution_count": null,
      "metadata": {
        "ExecuteTime": {
          "end_time": "2021-03-13T04:10:40.728634Z",
          "start_time": "2021-03-13T04:10:40.532826Z"
        },
        "id": "rQGW5zY8zeg-"
      },
      "outputs": [],
      "source": [
        "sns.countplot(data=tips, x='day');\n",
        "plt.title('요일별 팁을 준 횟수');"
      ]
    },
    {
      "cell_type": "code",
      "execution_count": null,
      "metadata": {
        "ExecuteTime": {
          "end_time": "2021-03-13T04:10:41.017350Z",
          "start_time": "2021-03-13T04:10:40.731631Z"
        },
        "id": "u0oo85vYzeg-"
      },
      "outputs": [],
      "source": [
        "sns.boxplot(data=tips, x='day', y='tip');\n",
        "plt.title('요일별 팁의 Box Plot');"
      ]
    },
    {
      "cell_type": "code",
      "execution_count": null,
      "metadata": {
        "ExecuteTime": {
          "end_time": "2021-03-13T04:10:41.424947Z",
          "start_time": "2021-03-13T04:10:41.020346Z"
        },
        "id": "kNwFYm-fzeg_"
      },
      "outputs": [],
      "source": [
        "sns.scatterplot(data=tips, x='total_bill', y='tip');\n",
        "plt.title('식사 금액과 팁의 관계');"
      ]
    },
    {
      "cell_type": "code",
      "execution_count": null,
      "metadata": {
        "ExecuteTime": {
          "end_time": "2021-03-13T04:10:42.604784Z",
          "start_time": "2021-03-13T04:10:41.429942Z"
        },
        "id": "sQveTjzvzeg_"
      },
      "outputs": [],
      "source": [
        "sns.jointplot(data=tips, x=\"total_bill\", y=\"tip\");\n",
        "plt.suptitle(\"식사 금액과 팁의 관계 Joint Plot\", y=1.02);"
      ]
    },
    {
      "cell_type": "code",
      "execution_count": null,
      "metadata": {
        "ExecuteTime": {
          "end_time": "2021-03-13T04:10:42.840552Z",
          "start_time": "2021-03-13T04:10:42.606782Z"
        },
        "id": "3hlvxdorzeg_"
      },
      "outputs": [],
      "source": [
        "sns.boxplot(data=tips, x='day', y='tip');\n",
        "plt.title('요일별 팁의 Box Plot');"
      ]
    },
    {
      "cell_type": "code",
      "execution_count": null,
      "metadata": {
        "ExecuteTime": {
          "end_time": "2021-03-13T04:10:43.184216Z",
          "start_time": "2021-03-13T04:10:42.842549Z"
        },
        "id": "ZSHZ52Qpzeg_"
      },
      "outputs": [],
      "source": [
        "sns.boxplot(data=tips, x='day', y='tip', hue='sex');\n",
        "plt.title('요일 별, 성별 팁의 Box Plot');"
      ]
    },
    {
      "cell_type": "code",
      "execution_count": null,
      "metadata": {
        "ExecuteTime": {
          "end_time": "2021-03-13T04:10:43.560842Z",
          "start_time": "2021-03-13T04:10:43.189209Z"
        },
        "id": "oj32tRZNzehA"
      },
      "outputs": [],
      "source": [
        "sns.violinplot(data=tips, x=\"day\", y=\"tip\", hue=\"sex\")\n",
        "plt.title(\"요일 별, 성별 팁의 Violin Plot\")\n",
        "plt.show()"
      ]
    },
    {
      "cell_type": "code",
      "execution_count": null,
      "metadata": {
        "ExecuteTime": {
          "end_time": "2021-03-13T04:10:43.997411Z",
          "start_time": "2021-03-13T04:10:43.563838Z"
        },
        "id": "CdplxYV8zehA"
      },
      "outputs": [],
      "source": [
        "sns.distplot(tips.tip, kde=True, rug=True);\n",
        "plt.title('팁의 분포');"
      ]
    },
    {
      "cell_type": "markdown",
      "metadata": {
        "id": "hX5nVGWSzehA"
      },
      "source": [
        "### <연습문제>\n",
        "성별 별로, 팁을 준 횟수를 차트로 그려보세요"
      ]
    },
    {
      "cell_type": "code",
      "execution_count": null,
      "metadata": {
        "id": "-BdHXjos7HGY"
      },
      "outputs": [],
      "source": []
    },
    {
      "cell_type": "markdown",
      "metadata": {
        "id": "2QanZUuhzehB"
      },
      "source": []
    },
    {
      "cell_type": "code",
      "execution_count": null,
      "metadata": {
        "id": "9Iu8-rSEzehB"
      },
      "outputs": [],
      "source": []
    }
  ],
  "metadata": {
    "colab": {
      "provenance": [],
      "toc_visible": true
    },
    "kernelspec": {
      "display_name": "Python 3",
      "name": "python3"
    },
    "language_info": {
      "codemirror_mode": {
        "name": "ipython",
        "version": 3
      },
      "file_extension": ".py",
      "mimetype": "text/x-python",
      "name": "python",
      "nbconvert_exporter": "python",
      "pygments_lexer": "ipython3",
      "version": "3.11.5"
    },
    "toc": {
      "base_numbering": 1,
      "nav_menu": {
        "height": "144px",
        "width": "160px"
      },
      "number_sections": false,
      "sideBar": true,
      "skip_h1_title": false,
      "title_cell": "Table of Contents",
      "title_sidebar": "Contents",
      "toc_cell": false,
      "toc_position": {
        "height": "calc(100% - 180px)",
        "left": "10px",
        "top": "150px",
        "width": "384px"
      },
      "toc_section_display": true,
      "toc_window_display": true
    },
    "varInspector": {
      "cols": {
        "lenName": 16,
        "lenType": 16,
        "lenVar": 40
      },
      "kernels_config": {
        "python": {
          "delete_cmd_postfix": "",
          "delete_cmd_prefix": "del ",
          "library": "var_list.py",
          "varRefreshCmd": "print(var_dic_list())"
        },
        "r": {
          "delete_cmd_postfix": ") ",
          "delete_cmd_prefix": "rm(",
          "library": "var_list.r",
          "varRefreshCmd": "cat(var_dic_list()) "
        }
      },
      "types_to_exclude": [
        "module",
        "function",
        "builtin_function_or_method",
        "instance",
        "_Feature"
      ],
      "window_display": false
    }
  },
  "nbformat": 4,
  "nbformat_minor": 0
}
