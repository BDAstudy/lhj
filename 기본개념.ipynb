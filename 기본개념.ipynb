{
 "cells": [
  {
   "cell_type": "markdown",
   "metadata": {},
   "source": [
    "#### 머신러닝(Machine learning)이란 ?\n",
    "- 머신러닝이란 명시적인 프로그래밍 없이 데이터를 이용해서 예측을 수행하는 알고리즘을 구현하는 기법을 뜻함\n",
    "- 즉 , 데이터로부터 컴퓨터가 어떤 패턴을 학습하는 알고리즘이라고 생각할 수 있음.\n",
    "- 머신러닝은 한국말로 기계학습이라 부름.\n",
    "\n",
    "- 데이터 -> 머신러닝 모델 학습 -> 예측\n",
    "\n",
    "#### 머신러닝이 필요한 이유\n",
    "- 머신러닝 방법론을 이용할 경우, 인간이 정확히 하나하나 로직을 지정해주기 어려운 복잡한 문제를 데이터에 기반한 학습을 통해서 해결할 수 있음.\n",
    "\n",
    "ex) 어떤 사용자에게 무슨 광고를 보여주는 것이 최적의 광고 배분 전략일까?\n",
    "\n",
    "어떤 카드사용내역이 사기에 의한 사용내역이고 어떤 사용 내역이 정상 사용 내역일까?\n",
    "\n",
    "#### 예측 모델의 필요성\n",
    "- 데이터 분석을 통해 정교한 예측 모델을 갖고 있을 경우, 중요한 비즈니스적 의사결정을 안정적이고 계획적을 수형할 수 있음.\n",
    "\n",
    "예제1) 다음달에 휴대폰 판매량은 얼마나 될까? -> 생산 계획 및 재고관리 전략을 수립할 수 있음\n",
    "\n",
    "\n",
    "예제2) 광고비를 100만원 더 집행하면 얼마나 많은 유저를 추가적으로 획득할 수 있을 까> -> 목표로 하는 유저 획득 수에 따른 광고비 집행 전략을 세울 수 있음\n"
   ]
  },
  {
   "cell_type": "markdown",
   "metadata": {},
   "source": [
    "#### 분류 문제(Classification) vs 회귀문제(Regression)\n",
    "\n",
    "- 이때 예측 모델 값의 형태에 따라서 분류 문제 혹은 회귀 문제로 나뉨\n",
    "\n",
    "- 분류(Classification) : 예측하는 결과값이 이산값(Discrete value) 인 경우\n",
    "\n",
    "ex)이 이미지에 해당하는 숫자는 1인가 2인가?\n",
    "\n",
    "\n",
    "- 회귀(Regression) : 예측하는 결과값이 연속값(Continuous Value) 인 문제\n",
    "\n",
    "\n",
    "ex) 3 개월 뒤 이 아파트 가격은 2억 1천일까?얼마일까?\n"
   ]
  },
  {
   "cell_type": "markdown",
   "metadata": {},
   "source": [
    "#### 머신러닝 알고리즘의 3가지 분류\n",
    "\n",
    "- Supervised Learning : 인풋 데이터와 그에 대한 정답 쌍을 이용해서 학습하는 방법론, 즉 정답레이블이 있는 것\n",
    "\n",
    "\n",
    "- Unsupervised Learning : 인풋 데이터만을 이용해서 데이터의 숨겨진 특징을 학습하는 방법론, 정답 레이블 없음, 데이터의 숨겨진 특징을 찾아내는 것, 대표적으로 비지도학습 중 주성분 분석(PCA), 딥러닝 중 오토인코더 가 있음\n",
    "\n",
    "\n",
    "- Reinforcement Learnging: Reward 를 제공하는 Environment와 Environment 내에서 행동을 수행하는 agent의 상호작용을 통해 학습하는 방법론\n",
    "\n",
    "\n"
   ]
  },
  {
   "cell_type": "markdown",
   "metadata": {},
   "source": [
    "#### numpy 와 pandas\n",
    "1. numpy -> 배열을 다루는 도구\n",
    "\n",
    "- 2차원 (배열)과 같이, 다차원 배열을 다룸\n",
    "\n",
    "- \"Numerical Python\" 다차원 데이터를 쉽게 처리할 수 있게 도와주는 패키지\n",
    "\n",
    "- 다차원 배열, 행렬의 생성과 연산,정렬 등 편리한 기능들을 많이 포함하고 있음\n",
    "\n",
    "\n",
    "2. pandas -> 데이터 표를 다루는 도구\n",
    "\n",
    "- 1~2차원의 표 형태의 데이터를 다룸\n",
    "- 행과 열에 이름을 붙일 수 있음(index, columns)\n",
    "\n",
    "- \"Python Data Analysis Library\" 전세계에서 가장 인기있는 데이터 분석 패키지\n",
    "\n",
    "- Row(행) 과 Column(열) 로 이루어진 2차원 테이블 형태를 매우 잘 다룰 수 있음\n",
    "\n"
   ]
  },
  {
   "cell_type": "markdown",
   "metadata": {},
   "source": [
    "#### 그래프를 그리는 도구 , matplotlib 과 seaborn\n",
    "1. matplotlib\n",
    "- 그래프를 그리거나, 분포를 보여주는 등 시각화를 위한 파이썬 패키지\n",
    "- 연구용으로 많이 쓰인 MATLAB 의 코드 스타일을 모방\n",
    "\n",
    "2.seaborn\n",
    "- 보다 쉬운 파이썬 시각화 패키지\n",
    "- 다양하고 화려한 그래프를, matplotlib 보다 쉬운 코드로 그릴 수 있음\n",
    "- matplotlib 의 명령어 사용 가능"
   ]
  },
  {
   "cell_type": "code",
   "execution_count": null,
   "metadata": {},
   "outputs": [],
   "source": [
    "\n"
   ]
  }
 ],
 "metadata": {
  "kernelspec": {
   "display_name": "Python 3",
   "language": "python",
   "name": "python3"
  },
  "language_info": {
   "codemirror_mode": {
    "name": "ipython",
    "version": 3
   },
   "file_extension": ".py",
   "mimetype": "text/x-python",
   "name": "python",
   "nbconvert_exporter": "python",
   "pygments_lexer": "ipython3",
   "version": "3.11.5"
  },
  "orig_nbformat": 4
 },
 "nbformat": 4,
 "nbformat_minor": 2
}
